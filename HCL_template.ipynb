{
 "cells": [
  {
   "cell_type": "code",
   "execution_count": null,
   "id": "81bf2cce",
   "metadata": {},
   "outputs": [],
   "source": [
    "import numpy as np\n",
    "import matplotlib.pyplot as plt\n",
    "import test_suite as ts\n",
    "import misc as mi\n",
    "import GodunovFirstOrderUpwindScheme as godunov"
   ]
  },
  {
   "cell_type": "markdown",
   "id": "b56d4679",
   "metadata": {},
   "source": [
    "**Instantiate a test** from the `test` class : 1 among 5"
   ]
  },
  {
   "cell_type": "code",
   "execution_count": null,
   "id": "7a1daa87",
   "metadata": {},
   "outputs": [],
   "source": [
    "tst = ts.Test4()"
   ]
  },
  {
   "cell_type": "markdown",
   "id": "d3995109",
   "metadata": {},
   "source": [
    "**Instantiate the `Scheme`** for the given test case"
   ]
  },
  {
   "cell_type": "markdown",
   "id": "b7175aa6-8897-4df3-9bbc-af8410de193e",
   "metadata": {},
   "source": [
    "For the Godunov case, we decide to implement different form. The \"common\" one is called `vanillia`, but you can also use the `viscosity` form. Using various form can be part of your project... but not necessarily."
   ]
  },
  {
   "cell_type": "code",
   "execution_count": null,
   "id": "78131fff",
   "metadata": {},
   "outputs": [],
   "source": [
    "scheme = godunov.Godunov1(tst, form='vanilla')"
   ]
  },
  {
   "cell_type": "markdown",
   "id": "219115de",
   "metadata": {},
   "source": [
    "**Compute the image** of `u0` with the scheme"
   ]
  },
  {
   "cell_type": "code",
   "execution_count": null,
   "id": "30881fef",
   "metadata": {},
   "outputs": [],
   "source": [
    "scheme.compute(scheme.tFinal)"
   ]
  },
  {
   "cell_type": "markdown",
   "id": "c6dfb786",
   "metadata": {},
   "source": [
    "**Plot** the theoretical value of `u(tFinal)` in blue line as well as the result given by the scheme in orange bullets"
   ]
  },
  {
   "cell_type": "code",
   "execution_count": null,
   "id": "c6b82794",
   "metadata": {},
   "outputs": [],
   "source": [
    "plt.plot(scheme.x, scheme.uFinal)\n",
    "plt.plot(scheme.x, scheme.uF, marker = \"o\", markersize=5, linestyle = \"None\")"
   ]
  },
  {
   "cell_type": "code",
   "execution_count": null,
   "id": "b25e5cdd",
   "metadata": {},
   "outputs": [],
   "source": []
  }
 ],
 "metadata": {
  "kernelspec": {
   "display_name": "Python 3 (ipykernel)",
   "language": "python",
   "name": "python3"
  },
  "language_info": {
   "codemirror_mode": {
    "name": "ipython",
    "version": 3
   },
   "file_extension": ".py",
   "mimetype": "text/x-python",
   "name": "python",
   "nbconvert_exporter": "python",
   "pygments_lexer": "ipython3",
   "version": "3.12.6"
  }
 },
 "nbformat": 4,
 "nbformat_minor": 5
}
